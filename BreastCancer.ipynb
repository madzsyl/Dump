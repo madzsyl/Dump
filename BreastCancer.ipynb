{
 "cells": [
  {
   "cell_type": "code",
   "execution_count": 1,
   "id": "2ebbb822",
   "metadata": {},
   "outputs": [],
   "source": [
    "import pandas as pd\n",
    "import numpy as np\n",
    "import matplotlib.pyplot as plt\n",
    "import seaborn as sns"
   ]
  },
  {
   "cell_type": "code",
   "execution_count": 2,
   "id": "5fca8f13",
   "metadata": {},
   "outputs": [],
   "source": [
    "## Import Column names for dataset\n",
    "data_headers = pd.read_csv(\"part-1-dataset/field_names.txt\", names = [\"Name\"])\n",
    "#data_headers.head()"
   ]
  },
  {
   "cell_type": "code",
   "execution_count": 3,
   "id": "49585c3b",
   "metadata": {},
   "outputs": [],
   "source": [
    "data = pd.read_csv(\"part-1-dataset/breast-cancer.csv\", names = data_headers[\"Name\"])"
   ]
  },
  {
   "cell_type": "code",
   "execution_count": 4,
   "id": "bb388787",
   "metadata": {},
   "outputs": [
    {
     "data": {
      "text/plain": [
       "(569, 32)"
      ]
     },
     "execution_count": 4,
     "metadata": {},
     "output_type": "execute_result"
    }
   ],
   "source": [
    "data.shape"
   ]
  },
  {
   "cell_type": "markdown",
   "id": "906c7912",
   "metadata": {},
   "source": [
    "# Data Cleaning\n",
    "1. Check for Null values\n",
    "2. Check that data types and ranges make sense"
   ]
  },
  {
   "cell_type": "code",
   "execution_count": 5,
   "id": "fde3a7d2",
   "metadata": {},
   "outputs": [
    {
     "data": {
      "text/plain": [
       "0"
      ]
     },
     "execution_count": 5,
     "metadata": {},
     "output_type": "execute_result"
    }
   ],
   "source": [
    "data.isnull().sum().sum()\n",
    "# Note: since the output is 0, there are no null values throughout the dataset"
   ]
  },
  {
   "cell_type": "code",
   "execution_count": 6,
   "id": "3372f19a",
   "metadata": {},
   "outputs": [
    {
     "name": "stdout",
     "output_type": "stream",
     "text": [
      "['ID' 'diagnosis' 'radius_mean' 'radius_sd_error' 'radius_worst'\n",
      " 'texture_mean' 'texture_sd_error' 'texture_worst' 'perimeter_mean'\n",
      " 'perimeter_sd_error' 'perimeter_worst' 'area_mean' 'area_sd_error'\n",
      " 'area_worst' 'smoothness_mean' 'smoothness_sd_error' 'smoothness_worst'\n",
      " 'compactness_mean' 'compactness_sd_error' 'compactness_worst'\n",
      " 'concavity_mean' 'concavity_sd_error' 'concavity_worst'\n",
      " 'concave_points_mean' 'concave_points_sd_error' 'concave_points_worst'\n",
      " 'symmetry_mean' 'symmetry_sd_error' 'symmetry_worst'\n",
      " 'fractal_dimension_mean' 'fractal_dimension_sd_error'\n",
      " 'fractal_dimension_worst']\n"
     ]
    },
    {
     "data": {
      "text/html": [
       "<div>\n",
       "<style scoped>\n",
       "    .dataframe tbody tr th:only-of-type {\n",
       "        vertical-align: middle;\n",
       "    }\n",
       "\n",
       "    .dataframe tbody tr th {\n",
       "        vertical-align: top;\n",
       "    }\n",
       "\n",
       "    .dataframe thead th {\n",
       "        text-align: right;\n",
       "    }\n",
       "</style>\n",
       "<table border=\"1\" class=\"dataframe\">\n",
       "  <thead>\n",
       "    <tr style=\"text-align: right;\">\n",
       "      <th></th>\n",
       "      <th>ID</th>\n",
       "      <th>diagnosis</th>\n",
       "      <th>radius_mean</th>\n",
       "      <th>radius_sd_error</th>\n",
       "      <th>radius_worst</th>\n",
       "      <th>texture_mean</th>\n",
       "      <th>texture_sd_error</th>\n",
       "      <th>texture_worst</th>\n",
       "      <th>perimeter_mean</th>\n",
       "      <th>perimeter_sd_error</th>\n",
       "      <th>...</th>\n",
       "      <th>concavity_worst</th>\n",
       "      <th>concave_points_mean</th>\n",
       "      <th>concave_points_sd_error</th>\n",
       "      <th>concave_points_worst</th>\n",
       "      <th>symmetry_mean</th>\n",
       "      <th>symmetry_sd_error</th>\n",
       "      <th>symmetry_worst</th>\n",
       "      <th>fractal_dimension_mean</th>\n",
       "      <th>fractal_dimension_sd_error</th>\n",
       "      <th>fractal_dimension_worst</th>\n",
       "    </tr>\n",
       "  </thead>\n",
       "  <tbody>\n",
       "    <tr>\n",
       "      <th>0</th>\n",
       "      <td>842302</td>\n",
       "      <td>M</td>\n",
       "      <td>17.99</td>\n",
       "      <td>10.38</td>\n",
       "      <td>122.80</td>\n",
       "      <td>1001.0</td>\n",
       "      <td>0.11840</td>\n",
       "      <td>0.27760</td>\n",
       "      <td>0.3001</td>\n",
       "      <td>0.14710</td>\n",
       "      <td>...</td>\n",
       "      <td>25.38</td>\n",
       "      <td>17.33</td>\n",
       "      <td>184.60</td>\n",
       "      <td>2019.0</td>\n",
       "      <td>0.1622</td>\n",
       "      <td>0.6656</td>\n",
       "      <td>0.7119</td>\n",
       "      <td>0.2654</td>\n",
       "      <td>0.4601</td>\n",
       "      <td>0.11890</td>\n",
       "    </tr>\n",
       "    <tr>\n",
       "      <th>1</th>\n",
       "      <td>842517</td>\n",
       "      <td>M</td>\n",
       "      <td>20.57</td>\n",
       "      <td>17.77</td>\n",
       "      <td>132.90</td>\n",
       "      <td>1326.0</td>\n",
       "      <td>0.08474</td>\n",
       "      <td>0.07864</td>\n",
       "      <td>0.0869</td>\n",
       "      <td>0.07017</td>\n",
       "      <td>...</td>\n",
       "      <td>24.99</td>\n",
       "      <td>23.41</td>\n",
       "      <td>158.80</td>\n",
       "      <td>1956.0</td>\n",
       "      <td>0.1238</td>\n",
       "      <td>0.1866</td>\n",
       "      <td>0.2416</td>\n",
       "      <td>0.1860</td>\n",
       "      <td>0.2750</td>\n",
       "      <td>0.08902</td>\n",
       "    </tr>\n",
       "    <tr>\n",
       "      <th>2</th>\n",
       "      <td>84300903</td>\n",
       "      <td>M</td>\n",
       "      <td>19.69</td>\n",
       "      <td>21.25</td>\n",
       "      <td>130.00</td>\n",
       "      <td>1203.0</td>\n",
       "      <td>0.10960</td>\n",
       "      <td>0.15990</td>\n",
       "      <td>0.1974</td>\n",
       "      <td>0.12790</td>\n",
       "      <td>...</td>\n",
       "      <td>23.57</td>\n",
       "      <td>25.53</td>\n",
       "      <td>152.50</td>\n",
       "      <td>1709.0</td>\n",
       "      <td>0.1444</td>\n",
       "      <td>0.4245</td>\n",
       "      <td>0.4504</td>\n",
       "      <td>0.2430</td>\n",
       "      <td>0.3613</td>\n",
       "      <td>0.08758</td>\n",
       "    </tr>\n",
       "    <tr>\n",
       "      <th>3</th>\n",
       "      <td>84348301</td>\n",
       "      <td>M</td>\n",
       "      <td>11.42</td>\n",
       "      <td>20.38</td>\n",
       "      <td>77.58</td>\n",
       "      <td>386.1</td>\n",
       "      <td>0.14250</td>\n",
       "      <td>0.28390</td>\n",
       "      <td>0.2414</td>\n",
       "      <td>0.10520</td>\n",
       "      <td>...</td>\n",
       "      <td>14.91</td>\n",
       "      <td>26.50</td>\n",
       "      <td>98.87</td>\n",
       "      <td>567.7</td>\n",
       "      <td>0.2098</td>\n",
       "      <td>0.8663</td>\n",
       "      <td>0.6869</td>\n",
       "      <td>0.2575</td>\n",
       "      <td>0.6638</td>\n",
       "      <td>0.17300</td>\n",
       "    </tr>\n",
       "    <tr>\n",
       "      <th>4</th>\n",
       "      <td>84358402</td>\n",
       "      <td>M</td>\n",
       "      <td>20.29</td>\n",
       "      <td>14.34</td>\n",
       "      <td>135.10</td>\n",
       "      <td>1297.0</td>\n",
       "      <td>0.10030</td>\n",
       "      <td>0.13280</td>\n",
       "      <td>0.1980</td>\n",
       "      <td>0.10430</td>\n",
       "      <td>...</td>\n",
       "      <td>22.54</td>\n",
       "      <td>16.67</td>\n",
       "      <td>152.20</td>\n",
       "      <td>1575.0</td>\n",
       "      <td>0.1374</td>\n",
       "      <td>0.2050</td>\n",
       "      <td>0.4000</td>\n",
       "      <td>0.1625</td>\n",
       "      <td>0.2364</td>\n",
       "      <td>0.07678</td>\n",
       "    </tr>\n",
       "  </tbody>\n",
       "</table>\n",
       "<p>5 rows × 32 columns</p>\n",
       "</div>"
      ],
      "text/plain": [
       "         ID diagnosis  radius_mean  radius_sd_error  radius_worst  \\\n",
       "0    842302         M        17.99            10.38        122.80   \n",
       "1    842517         M        20.57            17.77        132.90   \n",
       "2  84300903         M        19.69            21.25        130.00   \n",
       "3  84348301         M        11.42            20.38         77.58   \n",
       "4  84358402         M        20.29            14.34        135.10   \n",
       "\n",
       "   texture_mean  texture_sd_error  texture_worst  perimeter_mean  \\\n",
       "0        1001.0           0.11840        0.27760          0.3001   \n",
       "1        1326.0           0.08474        0.07864          0.0869   \n",
       "2        1203.0           0.10960        0.15990          0.1974   \n",
       "3         386.1           0.14250        0.28390          0.2414   \n",
       "4        1297.0           0.10030        0.13280          0.1980   \n",
       "\n",
       "   perimeter_sd_error  ...  concavity_worst  concave_points_mean  \\\n",
       "0             0.14710  ...            25.38                17.33   \n",
       "1             0.07017  ...            24.99                23.41   \n",
       "2             0.12790  ...            23.57                25.53   \n",
       "3             0.10520  ...            14.91                26.50   \n",
       "4             0.10430  ...            22.54                16.67   \n",
       "\n",
       "   concave_points_sd_error  concave_points_worst  symmetry_mean  \\\n",
       "0                   184.60                2019.0         0.1622   \n",
       "1                   158.80                1956.0         0.1238   \n",
       "2                   152.50                1709.0         0.1444   \n",
       "3                    98.87                 567.7         0.2098   \n",
       "4                   152.20                1575.0         0.1374   \n",
       "\n",
       "   symmetry_sd_error  symmetry_worst  fractal_dimension_mean  \\\n",
       "0             0.6656          0.7119                  0.2654   \n",
       "1             0.1866          0.2416                  0.1860   \n",
       "2             0.4245          0.4504                  0.2430   \n",
       "3             0.8663          0.6869                  0.2575   \n",
       "4             0.2050          0.4000                  0.1625   \n",
       "\n",
       "   fractal_dimension_sd_error  fractal_dimension_worst  \n",
       "0                      0.4601                  0.11890  \n",
       "1                      0.2750                  0.08902  \n",
       "2                      0.3613                  0.08758  \n",
       "3                      0.6638                  0.17300  \n",
       "4                      0.2364                  0.07678  \n",
       "\n",
       "[5 rows x 32 columns]"
      ]
     },
     "execution_count": 6,
     "metadata": {},
     "output_type": "execute_result"
    }
   ],
   "source": [
    "data.dtypes\n",
    "print(data.columns.values)\n",
    "data.head()\n"
   ]
  },
  {
   "cell_type": "code",
   "execution_count": 7,
   "id": "b16fa87b",
   "metadata": {},
   "outputs": [
    {
     "data": {
      "text/plain": [
       "array(['M', 'B'], dtype=object)"
      ]
     },
     "execution_count": 7,
     "metadata": {},
     "output_type": "execute_result"
    }
   ],
   "source": [
    "data.diagnosis.unique()"
   ]
  },
  {
   "cell_type": "markdown",
   "id": "faeb92f2",
   "metadata": {},
   "source": [
    "### Comments: \n",
    "The data does not need to be cleaned. Data types seem to be fine as well. Rightfully, ID should be an object and not an integer - however, as long as we take care not to include it in the analysis, it is ok.\n",
    "\n",
    "We will be looking at the diagnosis of \"M\" or \"B\". Later on, we should hot-encode this variable so that we can run a model on it (M being 1, B being 0)"
   ]
  },
  {
   "cell_type": "markdown",
   "id": "c3d7e383",
   "metadata": {},
   "source": [
    "# Data Exploration\n",
    "1. Obtain Mean and Median of (Smoothness, Compactness)\n",
    "- We will do so using smoothness_mean and compactness_mean"
   ]
  },
  {
   "cell_type": "code",
   "execution_count": 8,
   "id": "fd7f31cb",
   "metadata": {},
   "outputs": [
    {
     "data": {
      "text/html": [
       "<div>\n",
       "<style scoped>\n",
       "    .dataframe tbody tr th:only-of-type {\n",
       "        vertical-align: middle;\n",
       "    }\n",
       "\n",
       "    .dataframe tbody tr th {\n",
       "        vertical-align: top;\n",
       "    }\n",
       "\n",
       "    .dataframe thead tr th {\n",
       "        text-align: left;\n",
       "    }\n",
       "</style>\n",
       "<table border=\"1\" class=\"dataframe\">\n",
       "  <thead>\n",
       "    <tr>\n",
       "      <th></th>\n",
       "      <th>diagnosis</th>\n",
       "      <th colspan=\"2\" halign=\"left\">smoothness_mean</th>\n",
       "      <th colspan=\"2\" halign=\"left\">compactness_mean</th>\n",
       "    </tr>\n",
       "    <tr>\n",
       "      <th></th>\n",
       "      <th></th>\n",
       "      <th>mean</th>\n",
       "      <th>median</th>\n",
       "      <th>mean</th>\n",
       "      <th>median</th>\n",
       "    </tr>\n",
       "  </thead>\n",
       "  <tbody>\n",
       "    <tr>\n",
       "      <th>0</th>\n",
       "      <td>B</td>\n",
       "      <td>2.000321</td>\n",
       "      <td>1.8510</td>\n",
       "      <td>0.021438</td>\n",
       "      <td>0.01631</td>\n",
       "    </tr>\n",
       "    <tr>\n",
       "      <th>1</th>\n",
       "      <td>M</td>\n",
       "      <td>4.323929</td>\n",
       "      <td>3.6795</td>\n",
       "      <td>0.032281</td>\n",
       "      <td>0.02859</td>\n",
       "    </tr>\n",
       "  </tbody>\n",
       "</table>\n",
       "</div>"
      ],
      "text/plain": [
       "  diagnosis smoothness_mean         compactness_mean         \n",
       "                       mean  median             mean   median\n",
       "0         B        2.000321  1.8510         0.021438  0.01631\n",
       "1         M        4.323929  3.6795         0.032281  0.02859"
      ]
     },
     "execution_count": 8,
     "metadata": {},
     "output_type": "execute_result"
    }
   ],
   "source": [
    "data[[\"diagnosis\", \"smoothness_mean\", \"compactness_mean\"]].groupby(\"diagnosis\").agg([\"mean\", \"median\"]).reset_index()"
   ]
  },
  {
   "cell_type": "markdown",
   "id": "2b16d64d",
   "metadata": {},
   "source": [
    "### Comments:\n",
    "\n",
    "1. Benign Tumours tend to have a smaller value of smoothness (<2 vs 4). This can be seem from the mean/median. Malignant tumours tend to have higher values of smoothness\n",
    "\n",
    "2. Benign Tumours have smaller values of Compactness (~ 0.02) as compared to Malign Tumours (>0.02)"
   ]
  },
  {
   "cell_type": "markdown",
   "id": "8ee76760",
   "metadata": {},
   "source": [
    "**Bootstrapping the data to produce samples to estimate mean, median**</br>\n",
    "Approach: \n",
    "1. Sample N datapoints w replacement\n",
    "2. Calculate the mean / median for each sample\n",
    "3. Calculate the overall mean value of the samples"
   ]
  },
  {
   "cell_type": "code",
   "execution_count": 9,
   "id": "784c2244",
   "metadata": {},
   "outputs": [],
   "source": [
    "def bs_sample(data, N = data.shape[0]//5, x = 1000):\n",
    "    # N: Size of sample\n",
    "    # x: number of data samples\n",
    "    import random\n",
    "    smooth = pd.DataFrame()\n",
    "    compact = pd.DataFrame()\n",
    "    \n",
    "    print(\"Size of samples:\", N)\n",
    "    print(\"No. samples:\",x)\n",
    "    temp = data.reset_index(drop = True)\n",
    "    \n",
    "    for i in range(x):\n",
    "        temp_rand = temp.iloc[random.sample(range(temp.shape[0]), N)]\n",
    "        \n",
    "        smooth = smooth.append(temp_rand[[\"diagnosis\", \"smoothness_mean\"]].groupby(\"diagnosis\").agg([\"mean\", \"median\"]).reset_index())\n",
    "        compact = compact.append(temp_rand[[\"diagnosis\", \"compactness_mean\"]].groupby(\"diagnosis\").agg([\"mean\", \"median\"]).reset_index())\n",
    "\n",
    "    smooth.columns = [\"diagnosis\", \"smooth_mean\", \"smooth_median\"]\n",
    "    smooth = smooth.groupby(\"diagnosis\").mean().reset_index()\n",
    "\n",
    "    compact.columns = [\"diagnosis\", \"compact_mean\", \"compact_median\"]\n",
    "    compact = compact.groupby(\"diagnosis\").mean().reset_index()\n",
    "    \n",
    "    return pd.merge(smooth, compact)"
   ]
  },
  {
   "cell_type": "code",
   "execution_count": 10,
   "id": "d51a26f3",
   "metadata": {},
   "outputs": [
    {
     "name": "stdout",
     "output_type": "stream",
     "text": [
      "Size of samples: 200\n",
      "No. samples: 500\n"
     ]
    },
    {
     "data": {
      "text/html": [
       "<div>\n",
       "<style scoped>\n",
       "    .dataframe tbody tr th:only-of-type {\n",
       "        vertical-align: middle;\n",
       "    }\n",
       "\n",
       "    .dataframe tbody tr th {\n",
       "        vertical-align: top;\n",
       "    }\n",
       "\n",
       "    .dataframe thead th {\n",
       "        text-align: right;\n",
       "    }\n",
       "</style>\n",
       "<table border=\"1\" class=\"dataframe\">\n",
       "  <thead>\n",
       "    <tr style=\"text-align: right;\">\n",
       "      <th></th>\n",
       "      <th>diagnosis</th>\n",
       "      <th>smooth_mean</th>\n",
       "      <th>smooth_median</th>\n",
       "      <th>compact_mean</th>\n",
       "      <th>compact_median</th>\n",
       "    </tr>\n",
       "  </thead>\n",
       "  <tbody>\n",
       "    <tr>\n",
       "      <th>0</th>\n",
       "      <td>B</td>\n",
       "      <td>1.999225</td>\n",
       "      <td>1.852635</td>\n",
       "      <td>0.021524</td>\n",
       "      <td>0.016263</td>\n",
       "    </tr>\n",
       "    <tr>\n",
       "      <th>1</th>\n",
       "      <td>M</td>\n",
       "      <td>4.315857</td>\n",
       "      <td>3.687282</td>\n",
       "      <td>0.032288</td>\n",
       "      <td>0.028615</td>\n",
       "    </tr>\n",
       "  </tbody>\n",
       "</table>\n",
       "</div>"
      ],
      "text/plain": [
       "  diagnosis  smooth_mean  smooth_median  compact_mean  compact_median\n",
       "0         B     1.999225       1.852635      0.021524        0.016263\n",
       "1         M     4.315857       3.687282      0.032288        0.028615"
      ]
     },
     "execution_count": 10,
     "metadata": {},
     "output_type": "execute_result"
    }
   ],
   "source": [
    "bs_sample(data, N = 200, x = 500)"
   ]
  },
  {
   "cell_type": "markdown",
   "id": "d3aa25a7",
   "metadata": {},
   "source": [
    "import seaborn as sn"
   ]
  },
  {
   "cell_type": "code",
   "execution_count": 11,
   "id": "44e5b161",
   "metadata": {},
   "outputs": [
    {
     "data": {
      "text/plain": [
       "Index(['radius_mean', 'radius_sd_error', 'radius_worst', 'texture_mean',\n",
       "       'texture_sd_error', 'texture_worst', 'perimeter_mean',\n",
       "       'perimeter_sd_error', 'perimeter_worst', 'area_mean', 'area_sd_error',\n",
       "       'area_worst', 'smoothness_mean', 'smoothness_sd_error',\n",
       "       'smoothness_worst', 'compactness_mean', 'compactness_sd_error',\n",
       "       'compactness_worst', 'concavity_mean', 'concavity_sd_error',\n",
       "       'concavity_worst', 'concave_points_mean', 'concave_points_sd_error',\n",
       "       'concave_points_worst', 'symmetry_mean', 'symmetry_sd_error',\n",
       "       'symmetry_worst', 'fractal_dimension_mean',\n",
       "       'fractal_dimension_sd_error', 'fractal_dimension_worst'],\n",
       "      dtype='object')"
      ]
     },
     "execution_count": 11,
     "metadata": {},
     "output_type": "execute_result"
    }
   ],
   "source": [
    "data.columns[2:]"
   ]
  },
  {
   "cell_type": "code",
   "execution_count": 12,
   "id": "b49847a1",
   "metadata": {},
   "outputs": [
    {
     "data": {
      "image/png": "[encoded data removed]",
      "text/plain": [
       "<Figure size 1080x2304 with 30 Axes>"
      ]
     },
     "metadata": {
      "needs_background": "light"
     },
     "output_type": "display_data"
    }
   ],
   "source": [
    "import matplotlib.pyplot as plt\n",
    "import seaborn as sn\n",
    "%matplotlib inline\n",
    "plt.rcParams[\"figure.figsize\"] = [15,32]\n",
    "fig, axes = plt.subplots(ncols=3, nrows=10)\n",
    "cols = data.columns[2:]\n",
    "for i , ax in zip(range(len(cols)), axes.flat):\n",
    "    sn.boxplot(data=data, x = cols[i], y = 'diagnosis', ax = ax)#.set(title=cols[i])\n",
    "plt.show()"
   ]
  },
  {
   "cell_type": "markdown",
   "id": "80a2be63",
   "metadata": {},
   "source": [
    "### Comments\n",
    "Based on the various box plots, we think that there are differences in the following variables for Benign and Malignant tumours:\n",
    "- radius\n",
    "- texture\n",
    "- perimeter\n",
    "- concave\n",
    "- symmetry\n",
    "- fractal dimension\n",
    "\n",
    "Also, radius and perimeter are most likely related (as these are distance/length measures)"
   ]
  },
  {
   "cell_type": "code",
   "execution_count": 13,
   "id": "0372e49f",
   "metadata": {},
   "outputs": [
    {
     "data": {
      "text/html": [
       "<div>\n",
       "<style scoped>\n",
       "    .dataframe tbody tr th:only-of-type {\n",
       "        vertical-align: middle;\n",
       "    }\n",
       "\n",
       "    .dataframe tbody tr th {\n",
       "        vertical-align: top;\n",
       "    }\n",
       "\n",
       "    .dataframe thead th {\n",
       "        text-align: right;\n",
       "    }\n",
       "</style>\n",
       "<table border=\"1\" class=\"dataframe\">\n",
       "  <thead>\n",
       "    <tr style=\"text-align: right;\">\n",
       "      <th></th>\n",
       "      <th>radius_mean</th>\n",
       "      <th>perimeter_mean</th>\n",
       "      <th>texture_mean</th>\n",
       "      <th>concavity_mean</th>\n",
       "    </tr>\n",
       "  </thead>\n",
       "  <tbody>\n",
       "    <tr>\n",
       "      <th>radius_mean</th>\n",
       "      <td>1.000000</td>\n",
       "      <td>0.676764</td>\n",
       "      <td>0.987357</td>\n",
       "      <td>-0.104321</td>\n",
       "    </tr>\n",
       "    <tr>\n",
       "      <th>perimeter_mean</th>\n",
       "      <td>0.676764</td>\n",
       "      <td>1.000000</td>\n",
       "      <td>0.685983</td>\n",
       "      <td>0.178009</td>\n",
       "    </tr>\n",
       "    <tr>\n",
       "      <th>texture_mean</th>\n",
       "      <td>0.987357</td>\n",
       "      <td>0.685983</td>\n",
       "      <td>1.000000</td>\n",
       "      <td>-0.072497</td>\n",
       "    </tr>\n",
       "    <tr>\n",
       "      <th>concavity_mean</th>\n",
       "      <td>-0.104321</td>\n",
       "      <td>0.178009</td>\n",
       "      <td>-0.072497</td>\n",
       "      <td>1.000000</td>\n",
       "    </tr>\n",
       "  </tbody>\n",
       "</table>\n",
       "</div>"
      ],
      "text/plain": [
       "                radius_mean  perimeter_mean  texture_mean  concavity_mean\n",
       "radius_mean        1.000000        0.676764      0.987357       -0.104321\n",
       "perimeter_mean     0.676764        1.000000      0.685983        0.178009\n",
       "texture_mean       0.987357        0.685983      1.000000       -0.072497\n",
       "concavity_mean    -0.104321        0.178009     -0.072497        1.000000"
      ]
     },
     "execution_count": 13,
     "metadata": {},
     "output_type": "execute_result"
    }
   ],
   "source": [
    "data[['radius_mean', 'perimeter_mean']].corr()\n",
    "data[['radius_mean', 'perimeter_mean', \"texture_mean\", \"concavity_mean\"]].corr()"
   ]
  },
  {
   "cell_type": "markdown",
   "id": "5e6aa651",
   "metadata": {},
   "source": [
    "# Modelling\n",
    "We will test out 2 classification methods. For simplicity, we try:\n",
    "1. Logistic Regression; and \n",
    "2. Random Forest\n",
    "\n",
    "Based on the data, we seem to have a good balance of diagnosis so we do not need to sample"
   ]
  },
  {
   "cell_type": "code",
   "execution_count": 14,
   "id": "fd12d949",
   "metadata": {},
   "outputs": [
    {
     "data": {
      "text/html": [
       "<div>\n",
       "<style scoped>\n",
       "    .dataframe tbody tr th:only-of-type {\n",
       "        vertical-align: middle;\n",
       "    }\n",
       "\n",
       "    .dataframe tbody tr th {\n",
       "        vertical-align: top;\n",
       "    }\n",
       "\n",
       "    .dataframe thead th {\n",
       "        text-align: right;\n",
       "    }\n",
       "</style>\n",
       "<table border=\"1\" class=\"dataframe\">\n",
       "  <thead>\n",
       "    <tr style=\"text-align: right;\">\n",
       "      <th></th>\n",
       "      <th>ID</th>\n",
       "    </tr>\n",
       "    <tr>\n",
       "      <th>diagnosis</th>\n",
       "      <th></th>\n",
       "    </tr>\n",
       "  </thead>\n",
       "  <tbody>\n",
       "    <tr>\n",
       "      <th>B</th>\n",
       "      <td>357</td>\n",
       "    </tr>\n",
       "    <tr>\n",
       "      <th>M</th>\n",
       "      <td>212</td>\n",
       "    </tr>\n",
       "  </tbody>\n",
       "</table>\n",
       "</div>"
      ],
      "text/plain": [
       "            ID\n",
       "diagnosis     \n",
       "B          357\n",
       "M          212"
      ]
     },
     "execution_count": 14,
     "metadata": {},
     "output_type": "execute_result"
    }
   ],
   "source": [
    "data.iloc[:, 0:2].groupby('diagnosis').count()"
   ]
  },
  {
   "cell_type": "markdown",
   "id": "5f25380f",
   "metadata": {},
   "source": [
    "### Discussion on Models:"
   ]
  },
  {
   "cell_type": "markdown",
   "id": "11b7b476",
   "metadata": {},
   "source": [
    "| Model | Pros|Cons|\n",
    "|------|------|------|\n",
    "|Logistic Regression|Easy to interpret with coefficients that can used for explainability|Variables need to be scaled, and we need to ensure that the data is not multi-collinear.|\n",
    "|Decision Tree|Easy to implement and understand. Data does not need to follow a distribution.|Trees can be susceptible to imbalance in data, causing erronous predictions if the labels are skewed to 1 class|\n",
    "\n",
    "\n",
    "### Controlling for Overfitting:\n",
    "\n",
    "In the dataset, the labels are roughly in the ratio 2:3. This is a pretty decent balance and we should not need to under/oversample to fix the balance of the data.\n",
    "\n",
    "To prevent overfitting, we will\n",
    "1. Ensure a 7:3 train to test ratio, so that the model is tested on a blind test set; or\n",
    "2. Perform k-fold cross validation.</br>\n",
    "\n",
    "For this demo, we will do approach 2."
   ]
  },
  {
   "cell_type": "code",
   "execution_count": null,
   "id": "63b2addf",
   "metadata": {},
   "outputs": [],
   "source": [
    "## Logistic Regression Prep\n"
   ]
  }
 ],
 "metadata": {
  "kernelspec": {
   "display_name": "Python 3 (ipykernel)",
   "language": "python",
   "name": "python3"
  },
  "language_info": {
   "codemirror_mode": {
    "name": "ipython",
    "version": 3
   },
   "file_extension": ".py",
   "mimetype": "text/x-python",
   "name": "python",
   "nbconvert_exporter": "python",
   "pygments_lexer": "ipython3",
   "version": "3.9.7"
  }
 },
 "nbformat": 4,
 "nbformat_minor": 5
}
